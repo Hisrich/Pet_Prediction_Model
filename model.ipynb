{
 "cells": [
  {
   "cell_type": "code",
   "execution_count": null,
   "metadata": {},
   "outputs": [
    {
     "name": "stdout",
     "output_type": "stream",
     "text": [
      "File saved successfully\n"
     ]
    }
   ],
   "source": [
    "import pandas as pd\n",
    "import numpy as np\n",
    "from xgboost import XGBClassifier\n",
    "from sklearn.model_selection import RandomizedSearchCV\n",
    "from sklearn.preprocessing import StandardScaler\n",
    "import os\n",
    "import joblib\n",
    "\n",
    "os.environ[\"LOKY_MAX_CPU_COUNT\"] = \"4\"\n",
    "\n",
    "\n",
    "file_path = r\"D:\\Programming\\Projects\\Data\\Pet_Adoption\\pet_adoption_data.xlsx\"\n",
    "df = pd.read_excel(file_path)\n",
    "\n",
    "X_train_path = r\"D:\\Programming\\Projects\\Pet_Adoption_Model\\Data\\x_train_data.csv\"\n",
    "X_train = pd.read_csv(X_train_path)\n",
    "\n",
    "y_train_path = r\"D:\\Programming\\Projects\\Pet_Adoption_Model\\Data\\y_train_data.csv\"\n",
    "y_values = pd.read_csv(y_train_path)\n",
    "y_train = y_values.squeeze()\n",
    "\n",
    "\n",
    "standardscalar = StandardScaler()\n",
    "X_train = standardscalar.fit_transform(X_train)\n",
    "\n",
    "param_grid = {\n",
    "    \"max_depth\": [3,5,7],\n",
    "    \"learning_rate\": [0.01,0.05,0.1],\n",
    "    \"n_estimators\": [100,200,300],\n",
    "    \"subsample\": [0.7,0.8,1.0],\n",
    "    \"colsample_bytree\": [0.7,0.8,1.0],\n",
    "    \"reg_alpha\": [0, 0.1, 1],\n",
    "    \"reg_lambda\": [1,2,3]\n",
    "}\n",
    "\n",
    "\n",
    "xgb_model = XGBClassifier(random_state = 42, eval_metric = \"logloss\")\n",
    "\n",
    "random_search = RandomizedSearchCV(estimator=xgb_model, param_distributions=param_grid, n_iter=50, scoring=\"accuracy\", n_jobs=-1, random_state=42)\n",
    "random_search.fit(X_train, y_train)\n",
    "\n",
    "best_model = random_search.best_estimator_\n",
    "best_model.fit(X_train, y_train, verbose=False)\n",
    "\n",
    "joblib.dump(best_model, \"pet_adoption_model_1.pkl\")\n",
    "joblib.dump(standardscalar, \"scalar.pkl\")\n",
    "print(\"File saved successfully\")"
   ]
  },
  {
   "cell_type": "code",
   "execution_count": 16,
   "metadata": {},
   "outputs": [
    {
     "data": {
      "text/plain": [
       "0    0\n",
       "1    1\n",
       "2    0\n",
       "3    0\n",
       "4    1\n",
       "Name: 0, dtype: int64"
      ]
     },
     "execution_count": 16,
     "metadata": {},
     "output_type": "execute_result"
    }
   ],
   "source": [
    "y_train.head()"
   ]
  },
  {
   "cell_type": "code",
   "execution_count": null,
   "metadata": {},
   "outputs": [],
   "source": []
  },
  {
   "cell_type": "code",
   "execution_count": null,
   "metadata": {},
   "outputs": [],
   "source": []
  },
  {
   "cell_type": "code",
   "execution_count": null,
   "metadata": {},
   "outputs": [],
   "source": []
  },
  {
   "cell_type": "code",
   "execution_count": null,
   "metadata": {},
   "outputs": [],
   "source": []
  },
  {
   "cell_type": "code",
   "execution_count": null,
   "metadata": {},
   "outputs": [],
   "source": []
  },
  {
   "cell_type": "code",
   "execution_count": null,
   "metadata": {},
   "outputs": [],
   "source": []
  },
  {
   "cell_type": "code",
   "execution_count": null,
   "metadata": {},
   "outputs": [],
   "source": []
  },
  {
   "cell_type": "code",
   "execution_count": null,
   "metadata": {},
   "outputs": [],
   "source": []
  }
 ],
 "metadata": {
  "kernelspec": {
   "display_name": "petadpenv",
   "language": "python",
   "name": "python3"
  },
  "language_info": {
   "codemirror_mode": {
    "name": "ipython",
    "version": 3
   },
   "file_extension": ".py",
   "mimetype": "text/x-python",
   "name": "python",
   "nbconvert_exporter": "python",
   "pygments_lexer": "ipython3",
   "version": "3.12.7"
  }
 },
 "nbformat": 4,
 "nbformat_minor": 2
}
